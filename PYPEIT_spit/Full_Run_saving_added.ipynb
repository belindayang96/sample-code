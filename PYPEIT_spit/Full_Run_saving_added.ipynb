{
  "nbformat": 4,
  "nbformat_minor": 0,
  "metadata": {
    "colab": {
      "provenance": []
    },
    "kernelspec": {
      "name": "python3",
      "display_name": "Python 3"
    },
    "accelerator": "GPU"
  },
  "cells": [
    {
      "cell_type": "markdown",
      "metadata": {
        "id": "dZvm-UBSHSzY"
      },
      "source": [
        "# Run full dataset"
      ]
    },
    {
      "cell_type": "markdown",
      "metadata": {
        "id": "Rp39NYAwHcXt"
      },
      "source": [
        "##Preparation Imports"
      ]
    },
    {
      "cell_type": "code",
      "metadata": {
        "id": "-59kvVQIHaE1"
      },
      "source": [
        "# imports for settings\n",
        "import os\n",
        "from google.colab import drive\n",
        "from importlib import reload"
      ],
      "execution_count": null,
      "outputs": []
    },
    {
      "cell_type": "markdown",
      "metadata": {
        "id": "_GytH1kzHpqH"
      },
      "source": [
        "##Installations"
      ]
    },
    {
      "cell_type": "markdown",
      "metadata": {
        "id": "A-U_8Ri3HtXQ"
      },
      "source": [
        "###SPIT code"
      ]
    },
    {
      "cell_type": "code",
      "metadata": {
        "id": "ThKNGs8uHu3O",
        "colab": {
          "base_uri": "https://localhost:8080/",
          "height": 136
        },
        "outputId": "790aef75-2727-415e-d8b9-141309b58703"
      },
      "source": [
        "!git clone https://github.com/pypeit/spit.git"
      ],
      "execution_count": null,
      "outputs": [
        {
          "output_type": "stream",
          "text": [
            "Cloning into 'spit'...\n",
            "remote: Enumerating objects: 24, done.\u001b[K\n",
            "remote: Counting objects: 100% (24/24), done.\u001b[K\n",
            "remote: Compressing objects: 100% (24/24), done.\u001b[K\n",
            "remote: Total 884 (delta 9), reused 2 (delta 0), pack-reused 860\u001b[K\n",
            "Receiving objects: 100% (884/884), 1.18 MiB | 1.30 MiB/s, done.\n",
            "Resolving deltas: 100% (507/507), done.\n"
          ],
          "name": "stdout"
        }
      ]
    },
    {
      "cell_type": "code",
      "metadata": {
        "id": "KO5CzkcvHyjH",
        "colab": {
          "base_uri": "https://localhost:8080/",
          "height": 34
        },
        "outputId": "20e2af92-e213-4da7-f607-93b0be4d6205"
      },
      "source": [
        "%cd spit"
      ],
      "execution_count": null,
      "outputs": [
        {
          "output_type": "stream",
          "text": [
            "/content/spit\n"
          ],
          "name": "stdout"
        }
      ]
    },
    {
      "cell_type": "code",
      "metadata": {
        "id": "-UQFQhKaHz85",
        "colab": {
          "base_uri": "https://localhost:8080/",
          "height": 51
        },
        "outputId": "b2ae968d-7b42-4723-8f0e-cdd2237192ff"
      },
      "source": [
        "!git checkout x_fussing"
      ],
      "execution_count": null,
      "outputs": [
        {
          "output_type": "stream",
          "text": [
            "Branch 'x_fussing' set up to track remote branch 'x_fussing' from 'origin'.\n",
            "Switched to a new branch 'x_fussing'\n"
          ],
          "name": "stdout"
        }
      ]
    },
    {
      "cell_type": "code",
      "metadata": {
        "id": "hrbxSuCaH960",
        "colab": {
          "base_uri": "https://localhost:8080/",
          "height": 34
        },
        "outputId": "ca9042ec-6b3c-4d3a-96d5-d902b5e0d0ee"
      },
      "source": [
        "!git pull"
      ],
      "execution_count": null,
      "outputs": [
        {
          "output_type": "stream",
          "text": [
            "Already up to date.\n"
          ],
          "name": "stdout"
        }
      ]
    },
    {
      "cell_type": "code",
      "metadata": {
        "id": "L4tyz9eaH_zh",
        "colab": {
          "base_uri": "https://localhost:8080/",
          "height": 1000
        },
        "outputId": "e350643e-6713-439c-c7af-fd044857bb1f"
      },
      "source": [
        "!python setup.py install\n",
        "!python setup.py develop"
      ],
      "execution_count": null,
      "outputs": [
        {
          "output_type": "stream",
          "text": [
            "running install\n",
            "running bdist_egg\n",
            "running egg_info\n",
            "creating spit.egg-info\n",
            "writing spit.egg-info/PKG-INFO\n",
            "writing dependency_links to spit.egg-info/dependency_links.txt\n",
            "writing top-level names to spit.egg-info/top_level.txt\n",
            "writing manifest file 'spit.egg-info/SOURCES.txt'\n",
            "writing manifest file 'spit.egg-info/SOURCES.txt'\n",
            "installing library code to build/bdist.linux-x86_64/egg\n",
            "running install_lib\n",
            "running build_py\n",
            "creating build\n",
            "creating build/lib\n",
            "creating build/lib/spit\n",
            "copying spit/utils.py -> build/lib/spit\n",
            "copying spit/io.py -> build/lib/spit\n",
            "copying spit/generate_pngs.py -> build/lib/spit\n",
            "copying spit/setup_package.py -> build/lib/spit\n",
            "copying spit/labels.py -> build/lib/spit\n",
            "copying spit/training.py -> build/lib/spit\n",
            "copying spit/image_loader.py -> build/lib/spit\n",
            "copying spit/ginga.py -> build/lib/spit\n",
            "copying spit/train.py -> build/lib/spit\n",
            "copying spit/test.py -> build/lib/spit\n",
            "copying spit/defs.py -> build/lib/spit\n",
            "copying spit/images.py -> build/lib/spit\n",
            "copying spit/classify.py -> build/lib/spit\n",
            "copying spit/preprocess.py -> build/lib/spit\n",
            "copying spit/plots.py -> build/lib/spit\n",
            "copying spit/classifier.py -> build/lib/spit\n",
            "copying spit/__init__.py -> build/lib/spit\n",
            "copying spit/zscale.py -> build/lib/spit\n",
            "creating build/lib/spit/data\n",
            "creating build/lib/spit/data/checkpoints\n",
            "copying spit/data/checkpoints/README.md -> build/lib/spit/data/checkpoints\n",
            "creating build/lib/spit/instruments\n",
            "copying spit/instruments/__init__.py -> build/lib/spit/instruments\n",
            "copying spit/instruments/kast.py -> build/lib/spit/instruments\n",
            "creating build/lib/spit/scripts\n",
            "copying spit/scripts/__init__.py -> build/lib/spit/scripts\n",
            "copying spit/scripts/classify_image.py -> build/lib/spit/scripts\n",
            "copying spit/scripts/make_png.py -> build/lib/spit/scripts\n",
            "copying spit/scripts/train.py -> build/lib/spit/scripts\n",
            "creating build/lib/spit/tests\n",
            "copying spit/tests/__init__.py -> build/lib/spit/tests\n",
            "copying spit/tests/test_classify.py -> build/lib/spit/tests\n",
            "copying spit/tests/test_image_loader.py -> build/lib/spit/tests\n",
            "creating build/lib/spit/tests/files\n",
            "copying spit/tests/files/r6.fits -> build/lib/spit/tests/files\n",
            "creating build/bdist.linux-x86_64\n",
            "creating build/bdist.linux-x86_64/egg\n",
            "creating build/bdist.linux-x86_64/egg/spit\n",
            "copying build/lib/spit/utils.py -> build/bdist.linux-x86_64/egg/spit\n",
            "copying build/lib/spit/io.py -> build/bdist.linux-x86_64/egg/spit\n",
            "creating build/bdist.linux-x86_64/egg/spit/tests\n",
            "copying build/lib/spit/tests/test_classify.py -> build/bdist.linux-x86_64/egg/spit/tests\n",
            "copying build/lib/spit/tests/test_image_loader.py -> build/bdist.linux-x86_64/egg/spit/tests\n",
            "creating build/bdist.linux-x86_64/egg/spit/tests/files\n",
            "copying build/lib/spit/tests/files/r6.fits -> build/bdist.linux-x86_64/egg/spit/tests/files\n",
            "copying build/lib/spit/tests/__init__.py -> build/bdist.linux-x86_64/egg/spit/tests\n",
            "copying build/lib/spit/generate_pngs.py -> build/bdist.linux-x86_64/egg/spit\n",
            "creating build/bdist.linux-x86_64/egg/spit/data\n",
            "creating build/bdist.linux-x86_64/egg/spit/data/checkpoints\n",
            "copying build/lib/spit/data/checkpoints/README.md -> build/bdist.linux-x86_64/egg/spit/data/checkpoints\n",
            "copying build/lib/spit/setup_package.py -> build/bdist.linux-x86_64/egg/spit\n",
            "copying build/lib/spit/labels.py -> build/bdist.linux-x86_64/egg/spit\n",
            "copying build/lib/spit/training.py -> build/bdist.linux-x86_64/egg/spit\n",
            "copying build/lib/spit/image_loader.py -> build/bdist.linux-x86_64/egg/spit\n",
            "creating build/bdist.linux-x86_64/egg/spit/scripts\n",
            "copying build/lib/spit/scripts/make_png.py -> build/bdist.linux-x86_64/egg/spit/scripts\n",
            "copying build/lib/spit/scripts/classify_image.py -> build/bdist.linux-x86_64/egg/spit/scripts\n",
            "copying build/lib/spit/scripts/train.py -> build/bdist.linux-x86_64/egg/spit/scripts\n",
            "copying build/lib/spit/scripts/__init__.py -> build/bdist.linux-x86_64/egg/spit/scripts\n",
            "copying build/lib/spit/ginga.py -> build/bdist.linux-x86_64/egg/spit\n",
            "copying build/lib/spit/train.py -> build/bdist.linux-x86_64/egg/spit\n",
            "copying build/lib/spit/test.py -> build/bdist.linux-x86_64/egg/spit\n",
            "copying build/lib/spit/defs.py -> build/bdist.linux-x86_64/egg/spit\n",
            "copying build/lib/spit/images.py -> build/bdist.linux-x86_64/egg/spit\n",
            "copying build/lib/spit/classify.py -> build/bdist.linux-x86_64/egg/spit\n",
            "copying build/lib/spit/preprocess.py -> build/bdist.linux-x86_64/egg/spit\n",
            "copying build/lib/spit/plots.py -> build/bdist.linux-x86_64/egg/spit\n",
            "copying build/lib/spit/classifier.py -> build/bdist.linux-x86_64/egg/spit\n",
            "copying build/lib/spit/__init__.py -> build/bdist.linux-x86_64/egg/spit\n",
            "creating build/bdist.linux-x86_64/egg/spit/instruments\n",
            "copying build/lib/spit/instruments/kast.py -> build/bdist.linux-x86_64/egg/spit/instruments\n",
            "copying build/lib/spit/instruments/__init__.py -> build/bdist.linux-x86_64/egg/spit/instruments\n",
            "copying build/lib/spit/zscale.py -> build/bdist.linux-x86_64/egg/spit\n",
            "byte-compiling build/bdist.linux-x86_64/egg/spit/utils.py to utils.cpython-36.pyc\n",
            "byte-compiling build/bdist.linux-x86_64/egg/spit/io.py to io.cpython-36.pyc\n",
            "byte-compiling build/bdist.linux-x86_64/egg/spit/tests/test_classify.py to test_classify.cpython-36.pyc\n",
            "byte-compiling build/bdist.linux-x86_64/egg/spit/tests/test_image_loader.py to test_image_loader.cpython-36.pyc\n",
            "byte-compiling build/bdist.linux-x86_64/egg/spit/tests/__init__.py to __init__.cpython-36.pyc\n",
            "byte-compiling build/bdist.linux-x86_64/egg/spit/generate_pngs.py to generate_pngs.cpython-36.pyc\n",
            "byte-compiling build/bdist.linux-x86_64/egg/spit/setup_package.py to setup_package.cpython-36.pyc\n",
            "byte-compiling build/bdist.linux-x86_64/egg/spit/labels.py to labels.cpython-36.pyc\n",
            "byte-compiling build/bdist.linux-x86_64/egg/spit/training.py to training.cpython-36.pyc\n",
            "byte-compiling build/bdist.linux-x86_64/egg/spit/image_loader.py to image_loader.cpython-36.pyc\n",
            "byte-compiling build/bdist.linux-x86_64/egg/spit/scripts/make_png.py to make_png.cpython-36.pyc\n",
            "byte-compiling build/bdist.linux-x86_64/egg/spit/scripts/classify_image.py to classify_image.cpython-36.pyc\n",
            "byte-compiling build/bdist.linux-x86_64/egg/spit/scripts/train.py to train.cpython-36.pyc\n",
            "byte-compiling build/bdist.linux-x86_64/egg/spit/scripts/__init__.py to __init__.cpython-36.pyc\n",
            "byte-compiling build/bdist.linux-x86_64/egg/spit/ginga.py to ginga.cpython-36.pyc\n",
            "byte-compiling build/bdist.linux-x86_64/egg/spit/train.py to train.cpython-36.pyc\n",
            "byte-compiling build/bdist.linux-x86_64/egg/spit/test.py to test.cpython-36.pyc\n",
            "byte-compiling build/bdist.linux-x86_64/egg/spit/defs.py to defs.cpython-36.pyc\n",
            "byte-compiling build/bdist.linux-x86_64/egg/spit/images.py to images.cpython-36.pyc\n",
            "byte-compiling build/bdist.linux-x86_64/egg/spit/classify.py to classify.cpython-36.pyc\n",
            "byte-compiling build/bdist.linux-x86_64/egg/spit/preprocess.py to preprocess.cpython-36.pyc\n",
            "byte-compiling build/bdist.linux-x86_64/egg/spit/plots.py to plots.cpython-36.pyc\n",
            "byte-compiling build/bdist.linux-x86_64/egg/spit/classifier.py to classifier.cpython-36.pyc\n",
            "byte-compiling build/bdist.linux-x86_64/egg/spit/__init__.py to __init__.cpython-36.pyc\n",
            "byte-compiling build/bdist.linux-x86_64/egg/spit/instruments/kast.py to kast.cpython-36.pyc\n",
            "byte-compiling build/bdist.linux-x86_64/egg/spit/instruments/__init__.py to __init__.cpython-36.pyc\n",
            "byte-compiling build/bdist.linux-x86_64/egg/spit/zscale.py to zscale.cpython-36.pyc\n",
            "creating build/bdist.linux-x86_64/egg/EGG-INFO\n",
            "installing scripts to build/bdist.linux-x86_64/egg/EGG-INFO/scripts\n",
            "running install_scripts\n",
            "running build_scripts\n",
            "creating build/scripts-3.6\n",
            "copying and adjusting bin/spit_png -> build/scripts-3.6\n",
            "copying and adjusting bin/spit_train -> build/scripts-3.6\n",
            "copying and adjusting bin/spit_classify_image -> build/scripts-3.6\n",
            "changing mode of build/scripts-3.6/spit_png from 644 to 755\n",
            "changing mode of build/scripts-3.6/spit_train from 644 to 755\n",
            "changing mode of build/scripts-3.6/spit_classify_image from 644 to 755\n",
            "creating build/bdist.linux-x86_64/egg/EGG-INFO/scripts\n",
            "copying build/scripts-3.6/spit_png -> build/bdist.linux-x86_64/egg/EGG-INFO/scripts\n",
            "copying build/scripts-3.6/spit_train -> build/bdist.linux-x86_64/egg/EGG-INFO/scripts\n",
            "copying build/scripts-3.6/spit_classify_image -> build/bdist.linux-x86_64/egg/EGG-INFO/scripts\n",
            "changing mode of build/bdist.linux-x86_64/egg/EGG-INFO/scripts/spit_png to 755\n",
            "changing mode of build/bdist.linux-x86_64/egg/EGG-INFO/scripts/spit_train to 755\n",
            "changing mode of build/bdist.linux-x86_64/egg/EGG-INFO/scripts/spit_classify_image to 755\n",
            "copying spit.egg-info/PKG-INFO -> build/bdist.linux-x86_64/egg/EGG-INFO\n",
            "copying spit.egg-info/SOURCES.txt -> build/bdist.linux-x86_64/egg/EGG-INFO\n",
            "copying spit.egg-info/dependency_links.txt -> build/bdist.linux-x86_64/egg/EGG-INFO\n",
            "copying spit.egg-info/not-zip-safe -> build/bdist.linux-x86_64/egg/EGG-INFO\n",
            "copying spit.egg-info/top_level.txt -> build/bdist.linux-x86_64/egg/EGG-INFO\n",
            "creating dist\n",
            "creating 'dist/spit-0.1.dev0-py3.6.egg' and adding 'build/bdist.linux-x86_64/egg' to it\n",
            "removing 'build/bdist.linux-x86_64/egg' (and everything under it)\n",
            "Processing spit-0.1.dev0-py3.6.egg\n",
            "creating /usr/local/lib/python3.6/dist-packages/spit-0.1.dev0-py3.6.egg\n",
            "Extracting spit-0.1.dev0-py3.6.egg to /usr/local/lib/python3.6/dist-packages\n",
            "Adding spit 0.1.dev0 to easy-install.pth file\n",
            "Installing spit_png script to /usr/local/bin\n",
            "Installing spit_train script to /usr/local/bin\n",
            "Installing spit_classify_image script to /usr/local/bin\n",
            "\n",
            "Installed /usr/local/lib/python3.6/dist-packages/spit-0.1.dev0-py3.6.egg\n",
            "Processing dependencies for spit==0.1.dev0\n",
            "Finished processing dependencies for spit==0.1.dev0\n",
            "running develop\n",
            "running egg_info\n",
            "writing spit.egg-info/PKG-INFO\n",
            "writing dependency_links to spit.egg-info/dependency_links.txt\n",
            "writing top-level names to spit.egg-info/top_level.txt\n",
            "writing manifest file 'spit.egg-info/SOURCES.txt'\n",
            "running build_ext\n",
            "Creating /usr/local/lib/python3.6/dist-packages/spit.egg-link (link to .)\n",
            "Removing spit 0.1.dev0 from easy-install.pth file\n",
            "Adding spit 0.1.dev0 to easy-install.pth file\n",
            "Installing spit_png script to /usr/local/bin\n",
            "Installing spit_train script to /usr/local/bin\n",
            "Installing spit_classify_image script to /usr/local/bin\n",
            "\n",
            "Installed /content/spit\n",
            "Processing dependencies for spit==0.1.dev0\n",
            "Finished processing dependencies for spit==0.1.dev0\n"
          ],
          "name": "stdout"
        }
      ]
    },
    {
      "cell_type": "markdown",
      "metadata": {
        "id": "R6kXgW0VII-r"
      },
      "source": [
        "###Google Drive"
      ]
    },
    {
      "cell_type": "code",
      "metadata": {
        "id": "IRVlOY8mIK99",
        "colab": {
          "base_uri": "https://localhost:8080/",
          "height": 122
        },
        "outputId": "22d75fae-51c8-4ca9-f059-d7753d569c44"
      },
      "source": [
        "drive.mount('/content/drive')"
      ],
      "execution_count": null,
      "outputs": [
        {
          "output_type": "stream",
          "text": [
            "Go to this URL in a browser: https://accounts.google.com/o/oauth2/auth?client_id=947318989803-6bn6qk8qdgf4n4g3pfee6491hc0brc4i.apps.googleusercontent.com&redirect_uri=urn%3Aietf%3Awg%3Aoauth%3A2.0%3Aoob&scope=email%20https%3A%2F%2Fwww.googleapis.com%2Fauth%2Fdocs.test%20https%3A%2F%2Fwww.googleapis.com%2Fauth%2Fdrive%20https%3A%2F%2Fwww.googleapis.com%2Fauth%2Fdrive.photos.readonly%20https%3A%2F%2Fwww.googleapis.com%2Fauth%2Fpeopleapi.readonly&response_type=code\n",
            "\n",
            "Enter your authorization code:\n",
            "··········\n",
            "Mounted at /content/drive\n"
          ],
          "name": "stdout"
        }
      ]
    },
    {
      "cell_type": "code",
      "metadata": {
        "id": "5iLyzQQ_Izck"
      },
      "source": [
        "file_path = \"/content/drive/My Drive/model_test/\"\n",
        "spit_path = \"/content/drive/My Drive\"\n",
        "os.environ['SPIT_DATA'] = \"/content/drive/My Drive/Kast/PNG\""
      ],
      "execution_count": null,
      "outputs": []
    },
    {
      "cell_type": "markdown",
      "metadata": {
        "id": "1VLkDWYvJaIJ"
      },
      "source": [
        "##Imports from SPIT"
      ]
    },
    {
      "cell_type": "code",
      "metadata": {
        "id": "maHPl2wkJw1L"
      },
      "source": [
        "import numpy as np\n",
        "from spit import preprocess\n",
        "from spit import labels\n",
        "from spit import classifier\n",
        "from spit import image_loader\n",
        "from spit import utils\n",
        "import tensorflow as tf\n",
        "from tensorflow import keras"
      ],
      "execution_count": null,
      "outputs": []
    },
    {
      "cell_type": "markdown",
      "metadata": {
        "id": "qM8n5toZKDSy"
      },
      "source": [
        "##Start full run"
      ]
    },
    {
      "cell_type": "markdown",
      "metadata": {
        "id": "yOPDKerHKqYD"
      },
      "source": [
        "###Preloads"
      ]
    },
    {
      "cell_type": "code",
      "metadata": {
        "id": "3AivSvV9KpMN",
        "colab": {
          "base_uri": "https://localhost:8080/",
          "height": 102
        },
        "outputId": "486ba2d2-9e8c-49b4-97ed-aa58b4f6e78a"
      },
      "source": [
        "label_dict = labels.kast_label_dict() \n",
        "label_dict"
      ],
      "execution_count": null,
      "outputs": [
        {
          "output_type": "execute_result",
          "data": {
            "text/plain": [
              "OrderedDict([('bias_label', 0),\n",
              "             ('science_label', 1),\n",
              "             ('standard_label', 2),\n",
              "             ('arc_label', 3),\n",
              "             ('flat_label', 4)])"
            ]
          },
          "metadata": {
            "tags": []
          },
          "execution_count": 8
        }
      ]
    },
    {
      "cell_type": "code",
      "metadata": {
        "id": "HqUk-avCKGUc",
        "colab": {
          "base_uri": "https://localhost:8080/",
          "height": 136
        },
        "outputId": "8eede591-267a-49b7-da09-9a47f6e7ddc3"
      },
      "source": [
        "preproc_dict = preprocess.original_preproc_dict()\n",
        "preproc_dict"
      ],
      "execution_count": null,
      "outputs": [
        {
          "output_type": "execute_result",
          "data": {
            "text/plain": [
              "{'cutoff_percent': 1.1,\n",
              " 'image_height': 210,\n",
              " 'image_width': 650,\n",
              " 'img_shape': (210, 650),\n",
              " 'img_size_flat': 136500,\n",
              " 'num_channels': 1,\n",
              " 'pad_const': 0}"
            ]
          },
          "metadata": {
            "tags": []
          },
          "execution_count": 9
        }
      ]
    },
    {
      "cell_type": "code",
      "metadata": {
        "id": "0hYf77cmLSgn",
        "colab": {
          "base_uri": "https://localhost:8080/",
          "height": 34
        },
        "outputId": "9d000797-e4a2-45b2-9e95-819df7af6aab"
      },
      "source": [
        "classify_dict = labels.kast_classify_dict(label_dict)\n",
        "classify_dict"
      ],
      "execution_count": null,
      "outputs": [
        {
          "output_type": "execute_result",
          "data": {
            "text/plain": [
              "{-1: 'unknown', 0: 'bias', 1: 'science', 2: 'standard', 3: 'arc', 4: 'flat'}"
            ]
          },
          "metadata": {
            "tags": []
          },
          "execution_count": 10
        }
      ]
    },
    {
      "cell_type": "markdown",
      "metadata": {
        "id": "ncnVv6ppLfuz"
      },
      "source": [
        "###Load Set of Images"
      ]
    },
    {
      "cell_type": "code",
      "metadata": {
        "id": "yjgj5XZjLi1v"
      },
      "source": [
        "#reload(image_loader)\n",
        "#train_images, train_labels = image_loader.load_linear_pngs('Kast', 'train', label_dict, subset=100,\n",
        "                                                           #spit_path = spit_path, images_only = True)"
      ],
      "execution_count": null,
      "outputs": []
    },
    {
      "cell_type": "code",
      "metadata": {
        "id": "hN4sZNKgRGMc"
      },
      "source": [
        "#reload(image_loader)\n",
        "#valid_images, valid_labels = image_loader.load_linear_pngs('Kast', 'validation', label_dict, subset=20,\n",
        "                                                          #spit_path=spit_path, images_only=True)"
      ],
      "execution_count": null,
      "outputs": []
    },
    {
      "cell_type": "code",
      "metadata": {
        "id": "23bSGee-VZJC"
      },
      "source": [
        "train = np.load(os.path.join(spit_path, 'Kast', 'kast_train.npz'))"
      ],
      "execution_count": null,
      "outputs": []
    },
    {
      "cell_type": "code",
      "metadata": {
        "id": "p8V1zCMsV1wv"
      },
      "source": [
        "train_images = train['images']\n",
        "train_labels = train['labels']"
      ],
      "execution_count": null,
      "outputs": []
    },
    {
      "cell_type": "code",
      "metadata": {
        "id": "S9f38Ru6WEBq",
        "colab": {
          "base_uri": "https://localhost:8080/",
          "height": 34
        },
        "outputId": "e1199fbb-38d6-40b0-e0b5-062576783010"
      },
      "source": [
        "train_images.shape"
      ],
      "execution_count": null,
      "outputs": [
        {
          "output_type": "execute_result",
          "data": {
            "text/plain": [
              "(15540, 210, 650, 1)"
            ]
          },
          "metadata": {
            "tags": []
          },
          "execution_count": 15
        }
      ]
    },
    {
      "cell_type": "code",
      "metadata": {
        "id": "uu8KmMJ3WGKg"
      },
      "source": [
        "validate = np.load(os.path.join(spit_path, 'Kast', 'kast_validate.npz'))"
      ],
      "execution_count": null,
      "outputs": []
    },
    {
      "cell_type": "code",
      "metadata": {
        "id": "SbF60KmxWOUr"
      },
      "source": [
        "valid_images = validate['images']\n",
        "valid_labels = validate['labels']"
      ],
      "execution_count": null,
      "outputs": []
    },
    {
      "cell_type": "markdown",
      "metadata": {
        "id": "tJgxtSUzSqWP"
      },
      "source": [
        "###Load Classifier and Train"
      ]
    },
    {
      "cell_type": "code",
      "metadata": {
        "id": "_IbFSxwSSsp2",
        "colab": {
          "base_uri": "https://localhost:8080/",
          "height": 105
        },
        "outputId": "4ba9e181-98a7-4b66-c3c9-0d2106197a5d"
      },
      "source": [
        "reload(classifier)\n",
        "kast = classifier.Classifier(label_dict, preproc_dict, classify_dict) "
      ],
      "execution_count": null,
      "outputs": [
        {
          "output_type": "stream",
          "text": [
            "WARNING: Logging before flag parsing goes to stderr.\n",
            "W0730 19:13:49.656604 140711309490048 deprecation.py:506] From /usr/local/lib/python3.6/dist-packages/tensorflow/python/ops/init_ops.py:1251: calling VarianceScaling.__init__ (from tensorflow.python.ops.init_ops) with dtype is deprecated and will be removed in a future version.\n",
            "Instructions for updating:\n",
            "Call initializer instance with the dtype argument instead of passing it to the constructor\n"
          ],
          "name": "stderr"
        }
      ]
    },
    {
      "cell_type": "code",
      "metadata": {
        "id": "75rXHgFxTgEX"
      },
      "source": [
        "train_labels = keras.utils.to_categorical(train_labels, num_classes=len(label_dict))\n",
        "valid_labels = keras.utils.to_categorical(valid_labels, num_classes=len(label_dict))"
      ],
      "execution_count": null,
      "outputs": []
    },
    {
      "cell_type": "code",
      "metadata": {
        "id": "8MdlJ5bO6jC6"
      },
      "source": [
        "checkpoint=keras.callbacks.ModelCheckpoint(file_path+'best_model.h5', monitor='val_acc', save_best_only=True, mode='max')"
      ],
      "execution_count": null,
      "outputs": []
    },
    {
      "cell_type": "code",
      "metadata": {
        "id": "bVlwE8TFTzYV",
        "colab": {
          "base_uri": "https://localhost:8080/",
          "height": 1000
        },
        "outputId": "a6fd4eff-6792-4f6e-bddc-bffdbaa2f459"
      },
      "source": [
        "result = kast.model.fit(train_images, train_labels, epochs=100, batch_size=128, \n",
        "                   validation_data=(valid_images, valid_labels), callbacks=[checkpoint]) "
      ],
      "execution_count": null,
      "outputs": [
        {
          "output_type": "stream",
          "text": [
            "Train on 15540 samples, validate on 3880 samples\n",
            "Epoch 1/100\n",
            "15540/15540 [==============================] - 97s 6ms/sample - loss: 131.6666 - acc: 0.8916 - val_loss: 0.1750 - val_acc: 0.9776\n",
            "Epoch 2/100\n",
            "15540/15540 [==============================] - 83s 5ms/sample - loss: 0.0743 - acc: 0.9921 - val_loss: 0.2487 - val_acc: 0.9778\n",
            "Epoch 3/100\n",
            "15540/15540 [==============================] - 79s 5ms/sample - loss: 0.0812 - acc: 0.9914 - val_loss: 0.8436 - val_acc: 0.9742\n",
            "Epoch 4/100\n",
            "15540/15540 [==============================] - 82s 5ms/sample - loss: 0.0514 - acc: 0.9959 - val_loss: 0.2355 - val_acc: 0.9843\n",
            "Epoch 5/100\n",
            "15540/15540 [==============================] - 79s 5ms/sample - loss: 0.0184 - acc: 0.9974 - val_loss: 1.0360 - val_acc: 0.9835\n",
            "Epoch 6/100\n",
            "15540/15540 [==============================] - 79s 5ms/sample - loss: 0.0564 - acc: 0.9929 - val_loss: 1.0404 - val_acc: 0.9704\n",
            "Epoch 7/100\n",
            "15540/15540 [==============================] - 79s 5ms/sample - loss: 0.2037 - acc: 0.9719 - val_loss: 0.6151 - val_acc: 0.9691\n",
            "Epoch 8/100\n",
            "15540/15540 [==============================] - 78s 5ms/sample - loss: 0.0780 - acc: 0.9922 - val_loss: 0.5563 - val_acc: 0.9778\n",
            "Epoch 9/100\n",
            "15540/15540 [==============================] - 78s 5ms/sample - loss: 0.0345 - acc: 0.9970 - val_loss: 0.8160 - val_acc: 0.9768\n",
            "Epoch 10/100\n",
            "15540/15540 [==============================] - 78s 5ms/sample - loss: 0.0577 - acc: 0.9945 - val_loss: 0.4397 - val_acc: 0.9804\n",
            "Epoch 11/100\n",
            "15540/15540 [==============================] - 82s 5ms/sample - loss: 0.1013 - acc: 0.9862 - val_loss: 0.5645 - val_acc: 0.9848\n",
            "Epoch 12/100\n",
            "15540/15540 [==============================] - 82s 5ms/sample - loss: 0.0638 - acc: 0.9967 - val_loss: 0.7376 - val_acc: 0.9861\n",
            "Epoch 13/100\n",
            "15540/15540 [==============================] - 78s 5ms/sample - loss: 0.0071 - acc: 0.9993 - val_loss: 0.4193 - val_acc: 0.9820\n",
            "Epoch 14/100\n",
            "15540/15540 [==============================] - 81s 5ms/sample - loss: 0.0067 - acc: 0.9987 - val_loss: 0.7216 - val_acc: 0.9863\n",
            "Epoch 15/100\n",
            "15540/15540 [==============================] - 78s 5ms/sample - loss: 0.1454 - acc: 0.9729 - val_loss: 0.8113 - val_acc: 0.9693\n",
            "Epoch 16/100\n",
            "15540/15540 [==============================] - 78s 5ms/sample - loss: 0.1128 - acc: 0.9945 - val_loss: 1.6646 - val_acc: 0.9781\n",
            "Epoch 17/100\n",
            "15540/15540 [==============================] - 78s 5ms/sample - loss: 0.0701 - acc: 0.9967 - val_loss: 3.0576 - val_acc: 0.9840\n",
            "Epoch 18/100\n",
            "15540/15540 [==============================] - 78s 5ms/sample - loss: 0.4136 - acc: 0.9493 - val_loss: 0.6786 - val_acc: 0.8951\n",
            "Epoch 19/100\n",
            "15540/15540 [==============================] - 78s 5ms/sample - loss: 0.1539 - acc: 0.9574 - val_loss: 1.0144 - val_acc: 0.9668\n",
            "Epoch 20/100\n",
            "15540/15540 [==============================] - 78s 5ms/sample - loss: 0.2620 - acc: 0.9358 - val_loss: 0.7078 - val_acc: 0.9637\n",
            "Epoch 21/100\n",
            "15540/15540 [==============================] - 78s 5ms/sample - loss: 0.1606 - acc: 0.9634 - val_loss: 0.7477 - val_acc: 0.9624\n",
            "Epoch 22/100\n",
            "15540/15540 [==============================] - 78s 5ms/sample - loss: 0.0647 - acc: 0.9883 - val_loss: 1.2406 - val_acc: 0.9660\n",
            "Epoch 23/100\n",
            "15540/15540 [==============================] - 78s 5ms/sample - loss: 0.0772 - acc: 0.9867 - val_loss: 1.0406 - val_acc: 0.9735\n",
            "Epoch 24/100\n",
            "15540/15540 [==============================] - 78s 5ms/sample - loss: 0.0146 - acc: 0.9979 - val_loss: 1.1597 - val_acc: 0.9799\n",
            "Epoch 25/100\n",
            "15540/15540 [==============================] - 78s 5ms/sample - loss: 0.0089 - acc: 0.9986 - val_loss: 1.2107 - val_acc: 0.9799\n",
            "Epoch 26/100\n",
            "15540/15540 [==============================] - 78s 5ms/sample - loss: 0.0188 - acc: 0.9973 - val_loss: 1.0971 - val_acc: 0.9732\n",
            "Epoch 27/100\n",
            "15540/15540 [==============================] - 78s 5ms/sample - loss: 0.0188 - acc: 0.9972 - val_loss: 1.0710 - val_acc: 0.9740\n",
            "Epoch 28/100\n",
            "15540/15540 [==============================] - 78s 5ms/sample - loss: 0.0115 - acc: 0.9974 - val_loss: 1.3458 - val_acc: 0.9765\n",
            "Epoch 29/100\n",
            "15540/15540 [==============================] - 78s 5ms/sample - loss: 0.0669 - acc: 0.9925 - val_loss: 0.7572 - val_acc: 0.9598\n",
            "Epoch 30/100\n",
            "15540/15540 [==============================] - 78s 5ms/sample - loss: 0.1192 - acc: 0.9810 - val_loss: 1.1131 - val_acc: 0.9745\n",
            "Epoch 31/100\n",
            "15540/15540 [==============================] - 78s 5ms/sample - loss: 0.0421 - acc: 0.9941 - val_loss: 1.3025 - val_acc: 0.9750\n",
            "Epoch 32/100\n",
            "15540/15540 [==============================] - 78s 5ms/sample - loss: 0.0065 - acc: 0.9992 - val_loss: 1.0761 - val_acc: 0.9768\n",
            "Epoch 33/100\n",
            "15540/15540 [==============================] - 78s 5ms/sample - loss: 0.0043 - acc: 0.9993 - val_loss: 1.1177 - val_acc: 0.9784\n",
            "Epoch 34/100\n",
            "15540/15540 [==============================] - 78s 5ms/sample - loss: 0.0040 - acc: 0.9993 - val_loss: 1.0542 - val_acc: 0.9765\n",
            "Epoch 35/100\n",
            "15540/15540 [==============================] - 78s 5ms/sample - loss: 0.0037 - acc: 0.9995 - val_loss: 1.1584 - val_acc: 0.9765\n",
            "Epoch 36/100\n",
            "15540/15540 [==============================] - 78s 5ms/sample - loss: 0.0027 - acc: 0.9995 - val_loss: 1.1053 - val_acc: 0.9776\n",
            "Epoch 37/100\n",
            "15540/15540 [==============================] - 78s 5ms/sample - loss: 0.0031 - acc: 0.9994 - val_loss: 1.1494 - val_acc: 0.9758\n",
            "Epoch 38/100\n",
            "15540/15540 [==============================] - 78s 5ms/sample - loss: 0.0031 - acc: 0.9994 - val_loss: 1.1028 - val_acc: 0.9737\n",
            "Epoch 39/100\n",
            "15540/15540 [==============================] - 78s 5ms/sample - loss: 0.0031 - acc: 0.9994 - val_loss: 1.1287 - val_acc: 0.9763\n",
            "Epoch 40/100\n",
            "15540/15540 [==============================] - 78s 5ms/sample - loss: 0.0025 - acc: 0.9997 - val_loss: 1.1743 - val_acc: 0.9758\n",
            "Epoch 41/100\n",
            "15540/15540 [==============================] - 78s 5ms/sample - loss: 0.0036 - acc: 0.9993 - val_loss: 1.1181 - val_acc: 0.9745\n",
            "Epoch 42/100\n",
            "15540/15540 [==============================] - 78s 5ms/sample - loss: 0.0024 - acc: 0.9994 - val_loss: 1.1087 - val_acc: 0.9753\n",
            "Epoch 43/100\n",
            "15540/15540 [==============================] - 78s 5ms/sample - loss: 0.0024 - acc: 0.9995 - val_loss: 1.1811 - val_acc: 0.9750\n",
            "Epoch 44/100\n",
            "15540/15540 [==============================] - 78s 5ms/sample - loss: 0.0023 - acc: 0.9995 - val_loss: 1.1733 - val_acc: 0.9742\n",
            "Epoch 45/100\n",
            "15540/15540 [==============================] - 78s 5ms/sample - loss: 0.0021 - acc: 0.9995 - val_loss: 1.1361 - val_acc: 0.9745\n",
            "Epoch 46/100\n",
            "15540/15540 [==============================] - 78s 5ms/sample - loss: 0.0022 - acc: 0.9995 - val_loss: 1.1853 - val_acc: 0.9745\n",
            "Epoch 47/100\n",
            "15540/15540 [==============================] - 78s 5ms/sample - loss: 0.0182 - acc: 0.9975 - val_loss: 0.7566 - val_acc: 0.9299\n",
            "Epoch 48/100\n",
            "15540/15540 [==============================] - 78s 5ms/sample - loss: 0.0687 - acc: 0.9900 - val_loss: 1.1993 - val_acc: 0.9588\n",
            "Epoch 49/100\n",
            "15540/15540 [==============================] - 78s 5ms/sample - loss: 0.0202 - acc: 0.9961 - val_loss: 1.3160 - val_acc: 0.9771\n",
            "Epoch 50/100\n",
            "15540/15540 [==============================] - 78s 5ms/sample - loss: 0.0102 - acc: 0.9988 - val_loss: 1.4997 - val_acc: 0.9758\n",
            "Epoch 51/100\n",
            "15540/15540 [==============================] - 78s 5ms/sample - loss: 0.0045 - acc: 0.9995 - val_loss: 1.7195 - val_acc: 0.9765\n",
            "Epoch 52/100\n",
            "15540/15540 [==============================] - 78s 5ms/sample - loss: 0.0032 - acc: 0.9995 - val_loss: 1.7201 - val_acc: 0.9763\n",
            "Epoch 53/100\n",
            "15540/15540 [==============================] - 78s 5ms/sample - loss: 0.0016 - acc: 0.9997 - val_loss: 1.7029 - val_acc: 0.9765\n",
            "Epoch 54/100\n",
            "15540/15540 [==============================] - 78s 5ms/sample - loss: 0.0023 - acc: 0.9996 - val_loss: 1.5922 - val_acc: 0.9773\n",
            "Epoch 55/100\n",
            "15540/15540 [==============================] - 78s 5ms/sample - loss: 0.0023 - acc: 0.9995 - val_loss: 1.5771 - val_acc: 0.9763\n",
            "Epoch 56/100\n",
            "15540/15540 [==============================] - 78s 5ms/sample - loss: 0.0020 - acc: 0.9995 - val_loss: 1.5696 - val_acc: 0.9763\n",
            "Epoch 57/100\n",
            "15540/15540 [==============================] - 78s 5ms/sample - loss: 0.0023 - acc: 0.9994 - val_loss: 1.6134 - val_acc: 0.9765\n",
            "Epoch 58/100\n",
            "15540/15540 [==============================] - 78s 5ms/sample - loss: 0.0017 - acc: 0.9997 - val_loss: 1.5822 - val_acc: 0.9763\n",
            "Epoch 59/100\n",
            "15540/15540 [==============================] - 78s 5ms/sample - loss: 0.0021 - acc: 0.9995 - val_loss: 1.5593 - val_acc: 0.9763\n",
            "Epoch 60/100\n",
            "15540/15540 [==============================] - 78s 5ms/sample - loss: 0.0019 - acc: 0.9995 - val_loss: 1.5609 - val_acc: 0.9763\n",
            "Epoch 61/100\n",
            "15540/15540 [==============================] - 78s 5ms/sample - loss: 0.0019 - acc: 0.9994 - val_loss: 1.5169 - val_acc: 0.9755\n",
            "Epoch 62/100\n",
            "15540/15540 [==============================] - 78s 5ms/sample - loss: 0.0017 - acc: 0.9997 - val_loss: 1.6393 - val_acc: 0.9765\n",
            "Epoch 63/100\n",
            "15540/15540 [==============================] - 78s 5ms/sample - loss: 0.0015 - acc: 0.9994 - val_loss: 1.6207 - val_acc: 0.9740\n",
            "Epoch 64/100\n",
            "15540/15540 [==============================] - 78s 5ms/sample - loss: 0.0016 - acc: 0.9995 - val_loss: 1.5411 - val_acc: 0.9760\n",
            "Epoch 65/100\n",
            "15540/15540 [==============================] - 78s 5ms/sample - loss: 0.0016 - acc: 0.9996 - val_loss: 1.5271 - val_acc: 0.9760\n",
            "Epoch 66/100\n",
            "15540/15540 [==============================] - 78s 5ms/sample - loss: 0.0012 - acc: 0.9995 - val_loss: 1.5232 - val_acc: 0.9758\n",
            "Epoch 67/100\n",
            "15540/15540 [==============================] - 78s 5ms/sample - loss: 0.0012 - acc: 0.9997 - val_loss: 1.5274 - val_acc: 0.9768\n",
            "Epoch 68/100\n",
            "15540/15540 [==============================] - 78s 5ms/sample - loss: 0.0015 - acc: 0.9995 - val_loss: 1.4798 - val_acc: 0.9745\n",
            "Epoch 69/100\n",
            "15540/15540 [==============================] - 78s 5ms/sample - loss: 0.0015 - acc: 0.9995 - val_loss: 1.4639 - val_acc: 0.9745\n",
            "Epoch 70/100\n",
            "15540/15540 [==============================] - 78s 5ms/sample - loss: 0.0015 - acc: 0.9995 - val_loss: 1.4531 - val_acc: 0.9745\n",
            "Epoch 71/100\n",
            "15540/15540 [==============================] - 78s 5ms/sample - loss: 0.0013 - acc: 0.9996 - val_loss: 1.4875 - val_acc: 0.9745\n",
            "Epoch 72/100\n",
            "15540/15540 [==============================] - 78s 5ms/sample - loss: 0.0013 - acc: 0.9997 - val_loss: 1.4569 - val_acc: 0.9745\n",
            "Epoch 73/100\n",
            "15540/15540 [==============================] - 78s 5ms/sample - loss: 0.0011 - acc: 0.9995 - val_loss: 1.5746 - val_acc: 0.9753\n",
            "Epoch 74/100\n",
            "15540/15540 [==============================] - 78s 5ms/sample - loss: 0.0012 - acc: 0.9997 - val_loss: 1.4373 - val_acc: 0.9758\n",
            "Epoch 75/100\n",
            "15540/15540 [==============================] - 78s 5ms/sample - loss: 0.0015 - acc: 0.9994 - val_loss: 1.4126 - val_acc: 0.9760\n",
            "Epoch 76/100\n",
            "15540/15540 [==============================] - 78s 5ms/sample - loss: 0.0011 - acc: 0.9997 - val_loss: 1.4448 - val_acc: 0.9760\n",
            "Epoch 77/100\n",
            "15540/15540 [==============================] - 78s 5ms/sample - loss: 0.3853 - acc: 0.9748 - val_loss: 1.5951 - val_acc: 0.9747\n",
            "Epoch 78/100\n",
            "15540/15540 [==============================] - 78s 5ms/sample - loss: 1.4201 - acc: 0.9655 - val_loss: 4.9822 - val_acc: 0.9168\n",
            "Epoch 79/100\n",
            "15540/15540 [==============================] - 78s 5ms/sample - loss: 0.4987 - acc: 0.9528 - val_loss: 7.5124 - val_acc: 0.9621\n",
            "Epoch 80/100\n",
            "15540/15540 [==============================] - 78s 5ms/sample - loss: 0.1017 - acc: 0.9900 - val_loss: 5.3881 - val_acc: 0.9647\n",
            "Epoch 81/100\n",
            "15540/15540 [==============================] - 78s 5ms/sample - loss: 0.1082 - acc: 0.9934 - val_loss: 5.8332 - val_acc: 0.9647\n",
            "Epoch 82/100\n",
            "15540/15540 [==============================] - 78s 5ms/sample - loss: 0.0880 - acc: 0.9894 - val_loss: 5.5863 - val_acc: 0.9686\n",
            "Epoch 83/100\n",
            "15540/15540 [==============================] - 78s 5ms/sample - loss: 0.0709 - acc: 0.9934 - val_loss: 5.9846 - val_acc: 0.9706\n",
            "Epoch 84/100\n",
            "15540/15540 [==============================] - 78s 5ms/sample - loss: 0.0154 - acc: 0.9978 - val_loss: 6.6635 - val_acc: 0.9711\n",
            "Epoch 85/100\n",
            "15540/15540 [==============================] - 78s 5ms/sample - loss: 0.0055 - acc: 0.9990 - val_loss: 7.0406 - val_acc: 0.9711\n",
            "Epoch 86/100\n",
            "15540/15540 [==============================] - 78s 5ms/sample - loss: 0.0049 - acc: 0.9993 - val_loss: 6.2919 - val_acc: 0.9716\n",
            "Epoch 87/100\n",
            "15540/15540 [==============================] - 78s 5ms/sample - loss: 0.0046 - acc: 0.9995 - val_loss: 6.3787 - val_acc: 0.9704\n",
            "Epoch 88/100\n",
            "15540/15540 [==============================] - 78s 5ms/sample - loss: 0.0033 - acc: 0.9995 - val_loss: 6.3716 - val_acc: 0.9696\n",
            "Epoch 89/100\n",
            "15540/15540 [==============================] - 78s 5ms/sample - loss: 0.0037 - acc: 0.9994 - val_loss: 6.2865 - val_acc: 0.9701\n",
            "Epoch 90/100\n",
            "15540/15540 [==============================] - 78s 5ms/sample - loss: 0.0041 - acc: 0.9995 - val_loss: 6.2690 - val_acc: 0.9693\n",
            "Epoch 91/100\n",
            "15540/15540 [==============================] - 78s 5ms/sample - loss: 0.0029 - acc: 0.9995 - val_loss: 6.3805 - val_acc: 0.9701\n",
            "Epoch 92/100\n",
            "15540/15540 [==============================] - 78s 5ms/sample - loss: 0.0034 - acc: 0.9994 - val_loss: 6.4004 - val_acc: 0.9691\n",
            "Epoch 93/100\n",
            "15540/15540 [==============================] - 78s 5ms/sample - loss: 0.0030 - acc: 0.9995 - val_loss: 6.2805 - val_acc: 0.9698\n",
            "Epoch 94/100\n",
            "15540/15540 [==============================] - 78s 5ms/sample - loss: 0.0031 - acc: 0.9993 - val_loss: 6.2322 - val_acc: 0.9693\n",
            "Epoch 95/100\n",
            "15540/15540 [==============================] - 78s 5ms/sample - loss: 0.0033 - acc: 0.9995 - val_loss: 6.2884 - val_acc: 0.9701\n",
            "Epoch 96/100\n",
            "15540/15540 [==============================] - 78s 5ms/sample - loss: 0.0029 - acc: 0.9995 - val_loss: 6.3387 - val_acc: 0.9701\n",
            "Epoch 97/100\n",
            "15540/15540 [==============================] - 78s 5ms/sample - loss: 0.0031 - acc: 0.9995 - val_loss: 6.2283 - val_acc: 0.9678\n",
            "Epoch 98/100\n",
            "15540/15540 [==============================] - 78s 5ms/sample - loss: 0.0032 - acc: 0.9992 - val_loss: 5.9505 - val_acc: 0.9727\n",
            "Epoch 99/100\n",
            "15540/15540 [==============================] - 78s 5ms/sample - loss: 0.0039 - acc: 0.9995 - val_loss: 6.5025 - val_acc: 0.9722\n",
            "Epoch 100/100\n",
            "15540/15540 [==============================] - 78s 5ms/sample - loss: 0.0080 - acc: 0.9991 - val_loss: 6.8769 - val_acc: 0.9709\n"
          ],
          "name": "stdout"
        }
      ]
    },
    {
      "cell_type": "markdown",
      "metadata": {
        "id": "WIvykAAyUcUh"
      },
      "source": [
        "###Test"
      ]
    },
    {
      "cell_type": "code",
      "metadata": {
        "id": "-gxlqZxaUeVZ"
      },
      "source": [
        "test = np.load(os.path.join(spit_path, 'Kast', 'kast_test.npz'))"
      ],
      "execution_count": null,
      "outputs": []
    },
    {
      "cell_type": "code",
      "metadata": {
        "id": "M7ooMUbDWqks"
      },
      "source": [
        "test_images = test['images']\n",
        "test_labels = test['labels']"
      ],
      "execution_count": null,
      "outputs": []
    },
    {
      "cell_type": "code",
      "metadata": {
        "id": "EFXw5MMGW0pY"
      },
      "source": [
        "test_labels = keras.utils.to_categorical(test_labels, num_classes=len(label_dict))"
      ],
      "execution_count": null,
      "outputs": []
    },
    {
      "cell_type": "code",
      "metadata": {
        "id": "-tUAVGeX9Sb_",
        "colab": {
          "base_uri": "https://localhost:8080/",
          "height": 51
        },
        "outputId": "bdfec2c2-cb6b-4e37-c1b1-836794859bb1"
      },
      "source": [
        "kast.model.evaluate(test_images, test_labels) "
      ],
      "execution_count": null,
      "outputs": [
        {
          "output_type": "stream",
          "text": [
            "4840/4840 [==============================] - 9s 2ms/sample - loss: 6.0781 - acc: 0.9667\n"
          ],
          "name": "stdout"
        },
        {
          "output_type": "execute_result",
          "data": {
            "text/plain": [
              "[6.078056853387143, 0.96673554]"
            ]
          },
          "metadata": {
            "tags": []
          },
          "execution_count": 25
        }
      ]
    },
    {
      "cell_type": "markdown",
      "metadata": {
        "id": "-1QGsqQl5fD0"
      },
      "source": [
        "###Plot and Save"
      ]
    },
    {
      "cell_type": "code",
      "metadata": {
        "id": "eEzb4b8d5jQK",
        "colab": {
          "base_uri": "https://localhost:8080/",
          "height": 34
        },
        "outputId": "545c4f07-1d67-4650-953b-b1936fac0b65"
      },
      "source": [
        "result.history.keys()"
      ],
      "execution_count": null,
      "outputs": [
        {
          "output_type": "execute_result",
          "data": {
            "text/plain": [
              "dict_keys(['loss', 'acc', 'val_loss', 'val_acc'])"
            ]
          },
          "metadata": {
            "tags": []
          },
          "execution_count": 25
        }
      ]
    },
    {
      "cell_type": "code",
      "metadata": {
        "id": "wY1zWKgo7Mmy"
      },
      "source": [
        "train_acc = result.history['acc']\n",
        "valid_acc = result.history['val_acc']\n",
        "train_loss = result.history['loss']\n",
        "valid_acc = result.history['val_loss']"
      ],
      "execution_count": null,
      "outputs": []
    },
    {
      "cell_type": "code",
      "metadata": {
        "id": "-iwA6SS36sB2",
        "colab": {
          "base_uri": "https://localhost:8080/",
          "height": 297
        },
        "outputId": "1d40f024-e774-4844-d9c7-75aa4e5cef42"
      },
      "source": [
        "reload(utils)\n",
        "utils.display_training_trends(result, 'acc', 'loss')"
      ],
      "execution_count": null,
      "outputs": [
        {
          "output_type": "display_data",
          "data": {
            "image/png": "[encoded data removed]",
            "text/plain": [
              "<Figure size 432x288 with 2 Axes>"
            ]
          },
          "metadata": {
            "tags": []
          }
        }
      ]
    },
    {
      "cell_type": "code",
      "metadata": {
        "id": "zt_oX81r7oDT"
      },
      "source": [
        "utils.display_training_trends(result, 'acc', 'val_acc')"
      ],
      "execution_count": null,
      "outputs": []
    },
    {
      "cell_type": "code",
      "metadata": {
        "id": "8NE4ee-re4PO",
        "colab": {
          "base_uri": "https://localhost:8080/",
          "height": 297
        },
        "outputId": "37e5ee90-df51-492b-c88a-01256dfd0344"
      },
      "source": [
        "utils.display_training_trends(result, 'val_acc', 'val_loss')"
      ],
      "execution_count": null,
      "outputs": [
        {
          "output_type": "display_data",
          "data": {
            "image/png": "[encoded data removed]",
            "text/plain": [
              "<Figure size 432x288 with 2 Axes>"
            ]
          },
          "metadata": {
            "tags": []
          }
        }
      ]
    },
    {
      "cell_type": "markdown",
      "metadata": {
        "id": "z3iK9pddfMLK"
      },
      "source": [
        "###Load Best and Test"
      ]
    },
    {
      "cell_type": "code",
      "metadata": {
        "id": "eZK_yoDarkcN"
      },
      "source": [
        "file_path = '/content/drive/My Drive/model_test/'"
      ],
      "execution_count": null,
      "outputs": []
    },
    {
      "cell_type": "code",
      "metadata": {
        "id": "SaXpCRqofOIC",
        "colab": {
          "base_uri": "https://localhost:8080/",
          "height": 207
        },
        "outputId": "73e2c2de-5d37-433f-9f3b-a326319ea237"
      },
      "source": [
        "best_load = classifier.Classifier(label_dict, preproc_dict, classify_dict)\n",
        "best_load.model = best_load.load_model('kast_keras_best_model.h5', file_path)"
      ],
      "execution_count": null,
      "outputs": [
        {
          "output_type": "stream",
          "text": [
            "WARNING: Logging before flag parsing goes to stderr.\n",
            "W0812 16:42:22.528753 139750259435392 deprecation.py:506] From /usr/local/lib/python3.6/dist-packages/tensorflow/python/ops/init_ops.py:1251: calling VarianceScaling.__init__ (from tensorflow.python.ops.init_ops) with dtype is deprecated and will be removed in a future version.\n",
            "Instructions for updating:\n",
            "Call initializer instance with the dtype argument instead of passing it to the constructor\n",
            "W0812 16:42:24.318374 139750259435392 deprecation.py:506] From /usr/local/lib/python3.6/dist-packages/tensorflow/python/ops/init_ops.py:97: calling GlorotUniform.__init__ (from tensorflow.python.ops.init_ops) with dtype is deprecated and will be removed in a future version.\n",
            "Instructions for updating:\n",
            "Call initializer instance with the dtype argument instead of passing it to the constructor\n",
            "W0812 16:42:24.320800 139750259435392 deprecation.py:506] From /usr/local/lib/python3.6/dist-packages/tensorflow/python/ops/init_ops.py:97: calling Zeros.__init__ (from tensorflow.python.ops.init_ops) with dtype is deprecated and will be removed in a future version.\n",
            "Instructions for updating:\n",
            "Call initializer instance with the dtype argument instead of passing it to the constructor\n"
          ],
          "name": "stderr"
        }
      ]
    },
    {
      "cell_type": "code",
      "metadata": {
        "id": "rPxfe47OJGja",
        "colab": {
          "base_uri": "https://localhost:8080/",
          "height": 51
        },
        "outputId": "dd119750-8b46-401e-8a89-09abf36d7e26"
      },
      "source": [
        "best_load.model.evaluate(test_images, test_labels)"
      ],
      "execution_count": null,
      "outputs": [
        {
          "output_type": "stream",
          "text": [
            "4840/4840 [==============================] - 18s 4ms/sample - loss: 0.8795 - acc: 0.9857\n"
          ],
          "name": "stdout"
        },
        {
          "output_type": "execute_result",
          "data": {
            "text/plain": [
              "[0.879465754879546, 0.9857438]"
            ]
          },
          "metadata": {
            "tags": []
          },
          "execution_count": 17
        }
      ]
    },
    {
      "cell_type": "code",
      "metadata": {
        "id": "MIkwRgXtfqzG",
        "colab": {
          "base_uri": "https://localhost:8080/",
          "height": 391
        },
        "outputId": "04056e87-987a-4287-b834-56cdd96f5797"
      },
      "source": [
        "best_load.model.summary() "
      ],
      "execution_count": null,
      "outputs": [
        {
          "output_type": "stream",
          "text": [
            "Model: \"sequential\"\n",
            "_________________________________________________________________\n",
            "Layer (type)                 Output Shape              Param #   \n",
            "=================================================================\n",
            "conv2d (Conv2D)              (None, 206, 646, 36)      936       \n",
            "_________________________________________________________________\n",
            "max_pooling2d (MaxPooling2D) (None, 103, 323, 36)      0         \n",
            "_________________________________________________________________\n",
            "conv2d_1 (Conv2D)            (None, 99, 319, 64)       57664     \n",
            "_________________________________________________________________\n",
            "max_pooling2d_1 (MaxPooling2 (None, 49, 159, 64)       0         \n",
            "_________________________________________________________________\n",
            "flatten (Flatten)            (None, 498624)            0         \n",
            "_________________________________________________________________\n",
            "dense (Dense)                (None, 128)               63824000  \n",
            "_________________________________________________________________\n",
            "dense_1 (Dense)              (None, 5)                 645       \n",
            "=================================================================\n",
            "Total params: 63,883,245\n",
            "Trainable params: 63,883,245\n",
            "Non-trainable params: 0\n",
            "_________________________________________________________________\n"
          ],
          "name": "stdout"
        }
      ]
    },
    {
      "cell_type": "code",
      "metadata": {
        "id": "HzVHdlK9t00a",
        "colab": {
          "base_uri": "https://localhost:8080/",
          "height": 238
        },
        "outputId": "a7995930-b529-4a03-d452-214320ba6455"
      },
      "source": [
        "predictions = best_load.model.predict(test_images)\n",
        "predictions"
      ],
      "execution_count": null,
      "outputs": [
        {
          "output_type": "execute_result",
          "data": {
            "text/plain": [
              "array([[0.0000000e+00, 0.0000000e+00, 0.0000000e+00, 0.0000000e+00,\n",
              "        1.0000000e+00],\n",
              "       [0.0000000e+00, 0.0000000e+00, 0.0000000e+00, 0.0000000e+00,\n",
              "        1.0000000e+00],\n",
              "       [0.0000000e+00, 0.0000000e+00, 0.0000000e+00, 0.0000000e+00,\n",
              "        1.0000000e+00],\n",
              "       ...,\n",
              "       [2.1291440e-34, 1.0000000e+00, 7.8258592e-16, 1.5911061e-27,\n",
              "        7.2372366e-32],\n",
              "       [0.0000000e+00, 1.0000000e+00, 0.0000000e+00, 0.0000000e+00,\n",
              "        0.0000000e+00],\n",
              "       [0.0000000e+00, 1.0000000e+00, 0.0000000e+00, 0.0000000e+00,\n",
              "        0.0000000e+00]], dtype=float32)"
            ]
          },
          "metadata": {
            "tags": []
          },
          "execution_count": 18
        }
      ]
    },
    {
      "cell_type": "code",
      "metadata": {
        "id": "lPKlJ29RuBxe"
      },
      "source": [
        "val_true = test['labels']"
      ],
      "execution_count": null,
      "outputs": []
    },
    {
      "cell_type": "code",
      "metadata": {
        "id": "Iho-bxiiuF7q"
      },
      "source": [
        "pred = []\n",
        "for p in enumerate(predictions):\n",
        "  # index of loop\n",
        "  i = p[0]\n",
        "  # particular prediction array for this image\n",
        "  p_array = p[1]\n",
        "  # find and append prediction\n",
        "  maxIndex = np.where(p_array == np.amax(p_array))\n",
        "  pred.append(maxIndex[0][0])"
      ],
      "execution_count": null,
      "outputs": []
    },
    {
      "cell_type": "code",
      "metadata": {
        "id": "ijpjwtZiuI5U"
      },
      "source": [
        "from matplotlib import pyplot as plt\n",
        "from sklearn.metrics import confusion_matrix\n",
        "def plot_confusion_matrix(y_true, y_pred, classes,\n",
        "                          normalize=False,\n",
        "                          title=None,\n",
        "                          cmap=plt.cm.Blues):\n",
        "    \"\"\"\n",
        "    This function prints and plots the confusion matrix.\n",
        "    Normalization can be applied by setting `normalize=True`.\n",
        "    \"\"\"\n",
        "    if not title:\n",
        "        if normalize:\n",
        "            title = 'Normalized confusion matrix'\n",
        "        else:\n",
        "            title = 'Confusion matrix, without normalization'\n",
        "\n",
        "    # Compute confusion matrix\n",
        "    cm = confusion_matrix(y_true, y_pred)\n",
        "#     # Only use the labels that appear in the data\n",
        "#     classes = classes[unique_labels(y_true, y_pred)]\n",
        "    if normalize:\n",
        "        cm = cm.astype('float') / cm.sum(axis=1)[:, np.newaxis]\n",
        "        print(\"Normalized confusion matrix\")\n",
        "    else:\n",
        "        print('Confusion matrix, without normalization')\n",
        "\n",
        "    print(cm)\n",
        "\n",
        "    fig = plt.figure(figsize=(8,8))\n",
        "    ax  = fig.add_subplot(111)\n",
        "    im = ax.imshow(cm, interpolation='nearest', cmap=cmap)\n",
        "    ax.figure.colorbar(im, ax=ax)\n",
        "    # We want to show all ticks...\n",
        "    ax.set(xticks=np.arange(cm.shape[1]),\n",
        "           yticks=np.arange(cm.shape[0]),\n",
        "           # ... and label them with the respective list entries\n",
        "           xticklabels=classes, yticklabels=classes,\n",
        "           title=title,\n",
        "           ylabel='True label',\n",
        "           xlabel='Predicted label')\n",
        "\n",
        "    # Rotate the tick labels and set their alignment.\n",
        "    plt.setp(ax.get_xticklabels(), rotation=45, ha=\"right\",\n",
        "             rotation_mode=\"anchor\")\n",
        "\n",
        "    # Loop over data dimensions and create text annotations.\n",
        "    fmt = '.2f' if normalize else 'd'\n",
        "    thresh = cm.max() / 2.\n",
        "    for i in range(cm.shape[0]):\n",
        "        for j in range(cm.shape[1]):\n",
        "            ax.text(j, i, format(cm[i, j], fmt),\n",
        "                    ha=\"center\", va=\"center\",\n",
        "                    color=\"white\" if cm[i, j] > thresh else \"black\")\n",
        "    fig.tight_layout()\n",
        "    return ax"
      ],
      "execution_count": null,
      "outputs": []
    },
    {
      "cell_type": "code",
      "metadata": {
        "id": "161iDWkeuK-2",
        "colab": {
          "base_uri": "https://localhost:8080/",
          "height": 51
        },
        "outputId": "7043188f-da24-41a6-925a-7956408fbc50"
      },
      "source": [
        "# plot_confusion_matrix(test_labels, pred, )\n",
        "print(label_dict)\n",
        "classes = []\n",
        "for label in label_dict:\n",
        "  if '_label' in label:\n",
        "    label = label.replace('_label','')\n",
        "  classes.append(label)\n",
        "print(classes)\n",
        "# classes = {x.replace('_label', '') for x in classes}\n",
        "# print(classes)"
      ],
      "execution_count": null,
      "outputs": [
        {
          "output_type": "stream",
          "text": [
            "OrderedDict([('bias_label', 0), ('science_label', 1), ('standard_label', 2), ('arc_label', 3), ('flat_label', 4)])\n",
            "['bias', 'science', 'standard', 'arc', 'flat']\n"
          ],
          "name": "stdout"
        }
      ]
    },
    {
      "cell_type": "code",
      "metadata": {
        "id": "khJu3V83uOPG",
        "colab": {
          "base_uri": "https://localhost:8080/",
          "height": 690
        },
        "outputId": "7923690d-9137-45cc-e71b-cb20b362a9a0"
      },
      "source": [
        "plot_confusion_matrix(val_true, pred, classes)"
      ],
      "execution_count": null,
      "outputs": [
        {
          "output_type": "stream",
          "text": [
            "Confusion matrix, without normalization\n",
            "[[966   2   0   0   0]\n",
            " [  0 949  19   0   0]\n",
            " [  0  39 929   0   0]\n",
            " [  0   6   0 962   0]\n",
            " [  0   0   3   0 965]]\n"
          ],
          "name": "stdout"
        },
        {
          "output_type": "execute_result",
          "data": {
            "text/plain": [
              "<matplotlib.axes._subplots.AxesSubplot at 0x7f19d00f8128>"
            ]
          },
          "metadata": {
            "tags": []
          },
          "execution_count": 23
        },
        {
          "output_type": "display_data",
          "data": {
            "image/png": "[encoded data removed]",
            "text/plain": [
              "<Figure size 576x576 with 2 Axes>"
            ]
          },
          "metadata": {
            "tags": []
          }
        }
      ]
    }
  ]
}